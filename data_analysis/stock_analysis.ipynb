{
 "cells": [
  {
   "cell_type": "code",
   "execution_count": 10,
   "metadata": {},
   "outputs": [
    {
     "name": "stderr",
     "output_type": "stream",
     "text": [
      "/Library/Frameworks/Python.framework/Versions/3.6/lib/python3.6/site-packages/bokeh/util/deprecation.py:34: BokehDeprecationWarning: responsive parameter was deprecated in Bokeh 0.12.10 and will be removed, use sizing_mode='fixed' for responsive=False or sizing_mode='scale_width' for responsive=True instead.\n",
      "  warn(message)\n"
     ]
    }
   ],
   "source": [
    "from pandas_datareader import data\n",
    "import fix_yahoo_finance as yf\n",
    "import datetime\n",
    "from bokeh.plotting import figure, show, output_file\n",
    "\n",
    "# Data from 1st to 10th of March 2016\n",
    "start = datetime.datetime(2015, 11, 1)\n",
    "end = datetime.datetime(2016, 3, 11)\n",
    "\n",
    "# Example for Google here: https://pandas-datareader.readthedocs.io/en/latest/remote_data.html#google-finance\n",
    "yf.pdr_override()\n",
    "df = data.get_data_yahoo(tickers=\"GOOG\", start=start, end=end)\n",
    "\n",
    "\n",
    "def price_status_description(close_price, open_price):\n",
    "    if close_price > open_price:\n",
    "        return \"Increase\"\n",
    "    \n",
    "    if close_price < open_price:\n",
    "        return \"Decrease\"\n",
    "\n",
    "    return \"Equal\"\n",
    "\n",
    "df[\"Status\"] = [price_status_description(close_price, open_price) for close_price, open_price in zip(df.Close, df.Open)]\n",
    "df[\"Height\"] = abs(df.Open - df.Close) \n",
    "df[\"Middle\"] = (df.Open + df.Close) / 2\n",
    "df\n",
    "\n",
    "# Draw the figure\n",
    "f = figure(x_axis_type='datetime', width=1000, height=300, responsive=True)\n",
    "f.grid.grid_line_alpha = 0.3\n",
    "\n",
    "# Draw vertical lines\n",
    "f.segment(df.index, df.High, df.index, df.Low, color=\"black\")\n",
    "\n",
    "# Draw rectangle\n",
    "f.rect(\n",
    "    df.index[df.Status == \"Increase\"], # Get registries were Close > Open for x axis\n",
    "    df.Middle[df.Status == \"Increase\"], # Gent central axis of rectangles\n",
    "    12 * 60 * 60 * 1000, # x axis difference,\n",
    "    df.Height[df.Status == \"Increase\"], # Difference hight between top and bottom of rectangle.\n",
    "    fill_color=\"green\",\n",
    "    line_color=\"black\"\n",
    ")\n",
    "\n",
    "# Draw rectangle reversed\n",
    "f.rect(\n",
    "    df.index[df.Status == \"Decrease\"], # Get registries were Close < Open for x axis,\n",
    "    df.Middle[df.Status == \"Decrease\"], # Gent central axis of rectangles\n",
    "    12 * 60 * 60 * 1000, # x axis difference\n",
    "    df.Height[df.Status == \"Decrease\"], # Difference hight between top and bottom of rectangle.\n",
    "    fill_color=\"red\",\n",
    "    line_color=\"black\"\n",
    ")\n",
    "\n",
    "output_file(\"stock_analysis.html\")\n",
    "\n",
    "show(f)"
   ]
  },
  {
   "cell_type": "code",
   "execution_count": null,
   "metadata": {},
   "outputs": [],
   "source": []
  }
 ],
 "metadata": {
  "kernelspec": {
   "display_name": "Python 3",
   "language": "python",
   "name": "python3"
  },
  "language_info": {
   "codemirror_mode": {
    "name": "ipython",
    "version": 3
   },
   "file_extension": ".py",
   "mimetype": "text/x-python",
   "name": "python",
   "nbconvert_exporter": "python",
   "pygments_lexer": "ipython3",
   "version": "3.6.4"
  }
 },
 "nbformat": 4,
 "nbformat_minor": 2
}
