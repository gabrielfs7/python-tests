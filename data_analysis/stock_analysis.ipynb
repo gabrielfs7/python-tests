{
 "cells": [
  {
   "cell_type": "code",
   "execution_count": 22,
   "metadata": {},
   "outputs": [
    {
     "name": "stdout",
     "output_type": "stream",
     "text": [
      "[*********************100%***********************]  1 of 1 downloaded\n"
     ]
    },
    {
     "name": "stderr",
     "output_type": "stream",
     "text": [
      "/Library/Frameworks/Python.framework/Versions/3.6/lib/python3.6/site-packages/bokeh/models/sources.py:114: BokehUserWarning: ColumnDataSource's columns must be of the same length. Current lengths: ('x', 3), ('y', 8)\n",
      "  \"Current lengths: %s\" % \", \".join(sorted(str((k, len(v))) for k, v in data.items())), BokehUserWarning))\n",
      "/Library/Frameworks/Python.framework/Versions/3.6/lib/python3.6/site-packages/bokeh/models/sources.py:114: BokehUserWarning: ColumnDataSource's columns must be of the same length. Current lengths: ('height', 8), ('x', 3), ('y', 8)\n",
      "  \"Current lengths: %s\" % \", \".join(sorted(str((k, len(v))) for k, v in data.items())), BokehUserWarning))\n"
     ]
    }
   ],
   "source": [
    "from pandas_datareader import data\n",
    "import fix_yahoo_finance as yf\n",
    "import datetime\n",
    "from bokeh.plotting import figure, show, output_file\n",
    "\n",
    "# Data from 1st March 2016\n",
    "start = datetime.datetime(2016, 3, 1)\n",
    "end = datetime.datetime(2016, 3, 10)\n",
    "\n",
    "# Example for Google here: https://pandas-datareader.readthedocs.io/en/latest/remote_data.html#google-finance\n",
    "yf.pdr_override()\n",
    "df = data.get_data_yahoo(tickers=\"GOOG\", start=start, end=end)\n",
    "\n",
    "\n",
    "# Get registries were Close > Open\n",
    "x_axis_registries = df.index[df.Close > df.Open]\n",
    "\n",
    "# Gent central axis of rectangles\n",
    "central_axis = (df.Open + df.Close) / 2\n",
    "\n",
    "# x axis difference\n",
    "hours_12 = 12 * 60 * 60 * 1000\n",
    "\n",
    "# Difference hight between top and bottom of rectangle.\n",
    "difference_top_bottom_rectangle = abs(df.Open - df.Close)\n",
    "\n",
    "# Draw the figure\n",
    "f = figure(x_axis_type='datetime', width=1000, height=300)\n",
    "\n",
    "\n",
    "f.rect(x_axis_registries, central_axis, hours_12, difference_top_bottom_rectangle)\n",
    "\n",
    "output_file(\"stock_analysis.html\")\n",
    "\n",
    "show(f)"
   ]
  },
  {
   "cell_type": "code",
   "execution_count": null,
   "metadata": {},
   "outputs": [],
   "source": []
  }
 ],
 "metadata": {
  "kernelspec": {
   "display_name": "Python 3",
   "language": "python",
   "name": "python3"
  },
  "language_info": {
   "codemirror_mode": {
    "name": "ipython",
    "version": 3
   },
   "file_extension": ".py",
   "mimetype": "text/x-python",
   "name": "python",
   "nbconvert_exporter": "python",
   "pygments_lexer": "ipython3",
   "version": "3.6.4"
  }
 },
 "nbformat": 4,
 "nbformat_minor": 2
}
