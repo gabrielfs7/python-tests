{
 "cells": [
  {
   "cell_type": "code",
   "execution_count": null,
   "metadata": {
    "slideshow": {
     "slide_type": "slide"
    }
   },
   "outputs": [],
   "source": [
    "\"\"\"\n",
    "\n",
    "- We can add dictionaries and lists to DataFrame\n",
    "- If need help can type dir(df1)\n",
    "- df1.<<Column>> is a DataFrame which contains almost same methods than \"pandas.DataFrame\"\n",
    "\n",
    "\"\"\"\n",
    "import pandas\n",
    "\n",
    "data_df1 = []\n",
    "data_df1.append([\"John\", 26, \"\"])\n",
    "data_df1.append([\"Jane\", 28, \"\"])\n",
    "data_df1.append([\"Paul\", 45, \"\"])\n",
    "data_df1.append([\"Nana\", 23, \"\"])\n",
    "data_df1.append([\"Jeff\", 35, \"\"])\n",
    "data_df1.append([\"Alan\", 52, \"\"])\n",
    "\n",
    "df1 = pandas.DataFrame(data_df1, columns=[\"Name\", \"Age\", \"Category\"])\n",
    "\n",
    "\"\"\"\n",
    "\n",
    "It is possible to define if conditions to generate column values\n",
    "\n",
    "\"\"\"\n",
    "df1.loc[df1.Age >= 30, \"Category\"] = \"Mature\"\n",
    "df1.loc[df1.Age < 30, \"Category\"] = \"Young\"\n",
    "df1.loc[df1.Age >= 50, \"Category\"] = \"Old\"\n",
    "\n",
    "# Set column index and replace Dataframe\n",
    "df1 = df1.set_index(\"Name\")\n",
    "\n",
    "df1"
   ]
  },
  {
   "cell_type": "code",
   "execution_count": null,
   "metadata": {},
   "outputs": [],
   "source": [
    "data_df2 = []\n",
    "data_df2.append({\"Profession\": \"Programmer\", \"Salary\": 50000})\n",
    "data_df2.append({\"Profession\": \"Engineer\", \"Salary\": 70000})\n",
    "data_df2.append({\"Profession\": \"Lawyer\", \"Salary\": 65000})\n",
    "data_df2.append({\"Profession\": \"Carpenter\", \"Salary\": 40000})\n",
    "data_df2.append({\"Profession\": \"Waitress\", \"Salary\": 35000})\n",
    "\n",
    "df2 = pandas.DataFrame(data_df2, columns=[\"Profession\", \"Salary\"])\n",
    "\n",
    "\"\"\"\n",
    "It is possible to filter results. I.e: Get salaries > 40000\n",
    "\"\"\"\n",
    "df2 = df2[df2.Salary > 40000]\n",
    "\n",
    "# Set column index and replace Dataframe\n",
    "df2 = df2.set_index(\"Profession\")\n",
    "\n",
    "df2"
   ]
  },
  {
   "cell_type": "code",
   "execution_count": null,
   "metadata": {},
   "outputs": [],
   "source": [
    "\"\"\"\n",
    "It is possible to load data in many formats\n",
    "\"\"\"\n",
    "print(\"\\nFrom JSON\")\n",
    "df3 = pandas.read_json(\"supermarkets.json\")\n",
    "df3"
   ]
  },
  {
   "cell_type": "code",
   "execution_count": null,
   "metadata": {},
   "outputs": [],
   "source": [
    "print(\"\\nFrom CSV\")\n",
    "df4 = pandas.read_csv(\"supermarkets.csv\")\n",
    "df4"
   ]
  },
  {
   "cell_type": "code",
   "execution_count": null,
   "metadata": {},
   "outputs": [],
   "source": [
    "df5 = pandas.read_excel(\"supermarkets.xlsx\", sheet_name=0)\n",
    "df5"
   ]
  },
  {
   "cell_type": "code",
   "execution_count": null,
   "metadata": {},
   "outputs": [],
   "source": [
    "print(\"\\nFrom txt comma separated\")\n",
    "df6 = pandas.read_csv(\"supermarkets-commas.txt\")\n",
    "df6"
   ]
  },
  {
   "cell_type": "code",
   "execution_count": null,
   "metadata": {},
   "outputs": [],
   "source": [
    "print(\"\\nFrom txt semi-colons separated\")\n",
    "df7 = pandas.read_csv(\"supermarkets-semi-colons.txt\", sep=\";\")\n",
    "df7"
   ]
  }
 ],
 "metadata": {
  "celltoolbar": "Tags",
  "kernelspec": {
   "display_name": "Python 3",
   "language": "python",
   "name": "python3"
  },
  "language_info": {
   "codemirror_mode": {
    "name": "ipython",
    "version": 3
   },
   "file_extension": ".py",
   "mimetype": "text/x-python",
   "name": "python",
   "nbconvert_exporter": "python",
   "pygments_lexer": "ipython3",
   "version": "3.6.4"
  }
 },
 "nbformat": 4,
 "nbformat_minor": 2
}
